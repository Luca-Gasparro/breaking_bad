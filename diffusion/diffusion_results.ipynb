{
 "cells": [
  {
   "cell_type": "markdown",
   "id": "5b532d1e",
   "metadata": {},
   "source": [
    "# Diffusion Results"
   ]
  },
  {
   "cell_type": "markdown",
   "id": "bf6074c6",
   "metadata": {},
   "source": [
    "The diffusion coefficient of the drug is highly related to the stability of the amorphous solid dispersion. Typically, a higher diffusion coefficient of the drug implies a higher molecular mobility, promoting them to rearrange into ordered or amorphous domains within the polymer matrix. This has an effect of reducing the solubility of the drug formulation"
   ]
  },
  {
   "cell_type": "markdown",
   "id": "aa4913f8",
   "metadata": {},
   "source": [
    "We use a naproxen/PVP amorphous solid dispersion as our test. We consider a hydrated formulation and a dry one too - mimicking suboptimal storage conditions and perfect storage conditions respecitvely. The first step is obtaining the mean square displacement (MSD) curves given by the relation:\n",
    "\n",
    "\\begin{equation}\n",
    "\\text{MSD}(\\textbf{r}) = \\Big\\langle\\frac{1}{N}\\sum_{i=1}^{N}|\\mathbf{r}_i(t_0+\\tau)-\\mathbf{r}_i(t_0)|^2\\Big\\rangle_{t_0}.\n",
    "\\end{equation}\n",
    "\n",
    "The diffusion coefficient is then related to the MSD via the Einstein formula:\n",
    "\n",
    "\\begin{equation}\n",
    "D = \\frac{1}{6}\\frac{d}{dt}\\text{MSD}(\\mathbf{r}).\n",
    "\\end{equation}\n",
    "\n",
    "In the summer project we successfully computed the diffusion coefficient of naproxen, $D_{\\text{nap}}$, for a range of temperatures ranging from $600$ K to $300$ K. Unfortunately, we ran out of time to check convergence. In particular, we need to be concerned with the convergence of $D_{\\text{nap}}$ at $300$ K as this temperature is most relevant to the human body."
   ]
  },
  {
   "cell_type": "markdown",
   "id": "6ab34710",
   "metadata": {},
   "source": [
    "## MSD Curves at 300 K"
   ]
  },
  {
   "cell_type": "code",
   "execution_count": null,
   "id": "5396b1db",
   "metadata": {},
   "outputs": [],
   "source": []
  },
  {
   "cell_type": "code",
   "execution_count": null,
   "id": "5961568a",
   "metadata": {},
   "outputs": [],
   "source": []
  }
 ],
 "metadata": {
  "kernelspec": {
   "display_name": "breaking-bad",
   "language": "python",
   "name": "python3"
  },
  "language_info": {
   "codemirror_mode": {
    "name": "ipython",
    "version": 3
   },
   "file_extension": ".py",
   "mimetype": "text/x-python",
   "name": "python",
   "nbconvert_exporter": "python",
   "pygments_lexer": "ipython3",
   "version": "3.13.5"
  }
 },
 "nbformat": 4,
 "nbformat_minor": 5
}
