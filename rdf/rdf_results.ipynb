{
 "cells": [
  {
   "cell_type": "markdown",
   "id": "5cb38cbd",
   "metadata": {},
   "source": [
    "# Radial Distirbution Function Results"
   ]
  },
  {
   "cell_type": "markdown",
   "id": "97477c2c",
   "metadata": {},
   "source": [
    "In this notebook we present the results for the radial distribution function (RDF) , $g(r)$. Loosely speaking, the RDF is a measure of local density. The idea is as follows. Suppose we want to calculate the RDF between two groups A and B. We pick a reference particle in group A. We then consider a shell of radius $r$ away from the reference particle. We then count all the occurences of the reference particles of group B in this shell. We do this up until distances $\\frac{1}{2} * \\text{box length}$, after which the RDF becomes meaningless due to periodic boundary conditions. We then do this for all reference particles in group A."
   ]
  },
  {
   "cell_type": "markdown",
   "id": "c02d175d",
   "metadata": {},
   "source": [
    "There are a few caveats. First of all is normalisation. One can either normalise with the average density or the instantaneous density. For a simulation where the box size doesn't change, both of these approaches are equivalent, however when the box size does change, such as in an NPT simulation, we must use the instantaneous density. Another caveat is the concept of self exclusion. When considering the RDF between the same two groups, we must exclude \"self correlations\". This is because these cause asymptotic spikes at $r=0$, which are clearly unphysical."
   ]
  },
  {
   "cell_type": "markdown",
   "id": "5dc3c13f",
   "metadata": {},
   "source": [
    "Here we consider three RDFS, for our dry configuration of naproxen/PVP (NAP/PVP). We consider the following RDFs:\n",
    "* API-API\n",
    "* Polymer-Polymer\n",
    "* API-Polymer\n",
    "\n",
    "The reference particle for the API is the centres of mass (COMs), and the reference particle for the polymer is the user's choice - done by correctly inputting the desired atom with the naming convention in the `.pdb` file. For our PVP result, we used the nitrogen atom."
   ]
  },
  {
   "cell_type": "markdown",
   "id": "97807ae0",
   "metadata": {},
   "source": [
    "### Is `MDAnalysis` Safe to Use? (YES!)\n",
    "\n",
    "One thing that needs to be checked is the validity of using `MDAnalysis`. This is because we need to check if it using the the instantaneous density normalisation convention over the average density normalisation convention. This is particularly important because we are doing NPT runs which do change the box size at every frame. To verify if `MDAnalysis` is safe to use, we test the outputs produced by it to a RDF calculator coded from scratch. To keep things simple, we just test it on the API."
   ]
  },
  {
   "cell_type": "code",
   "execution_count": null,
   "id": "3c7e822e",
   "metadata": {},
   "outputs": [],
   "source": []
  },
  {
   "cell_type": "markdown",
   "id": "28b5ddc9",
   "metadata": {},
   "source": []
  }
 ],
 "metadata": {
  "kernelspec": {
   "display_name": "breaking-bad",
   "language": "python",
   "name": "python3"
  },
  "language_info": {
   "name": "python",
   "version": "3.13.5"
  }
 },
 "nbformat": 4,
 "nbformat_minor": 5
}
